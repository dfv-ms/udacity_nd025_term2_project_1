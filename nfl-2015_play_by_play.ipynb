{
 "cells": [
  {
   "cell_type": "markdown",
   "metadata": {},
   "source": [
    "# Should I stay or should I go?\n",
    "## What's the probability to get a new first down?\n",
    "\n",
    "At Kaggle I found a data set with every play of the NFL season 2015. https://www.kaggle.com/maxhorowitz/nflplaybyplay2015\n",
    "\n",
    "With these data I try to answer the following questions:\n",
    "\n",
    "* Can I predict if a team will reach a new first down in the next play given quarter, time left in quarter, current down, yards to go, position on field?\n",
    "* Can I give a probability for reaching the first down?\n",
    "* Is there a difference between the teams on offense?\n",
    "\n",
    "Next steps:\n",
    "\n",
    "* Combining the play by play data to data about a drive: What's the possibily to score a touchdown / field goal given the starting position on the field?\n",
    "* Again: Is there a preferred QB for 2-minute drives?\n",
    "* How does the data change from season to season?\n"
   ]
  },
  {
   "cell_type": "code",
   "execution_count": null,
   "metadata": {},
   "outputs": [],
   "source": [
    "# Import all the packages required\n",
    "import numpy as np\n",
    "import pandas as pd\n",
    "pd.set_option('display.max_columns', 500)\n",
    "pd.set_option('display.width', 1000)\n",
    "\n",
    "import matplotlib.pyplot as plt\n",
    "%matplotlib inline\n",
    "\n",
    "from sklearn.model_selection import train_test_split\n",
    "\n",
    "from sklearn.tree import DecisionTreeClassifier\n",
    "from sklearn.ensemble import RandomForestClassifier\n",
    "from sklearn.metrics import accuracy_score\n",
    "\n",
    "from sklearn.linear_model import LinearRegression, LogisticRegression\n",
    "from sklearn.metrics import r2_score, mean_squared_error, f1_score"
   ]
  },
  {
   "cell_type": "code",
   "execution_count": null,
   "metadata": {},
   "outputs": [],
   "source": [
    "# Read the data and show the first rows\n",
    "data = pd.read_csv(\"data/NFLPlaybyPlay2015.csv\", low_memory=False)\n",
    "data.head(30)"
   ]
  },
  {
   "cell_type": "code",
   "execution_count": null,
   "metadata": {},
   "outputs": [],
   "source": [
    "# Select only the columns we're interested in. 'FirstDown' is the column we want to predict.\n",
    "data_small = data[['qtr', 'down', 'TimeSecs', 'yrdline100', 'ydstogo', 'PlayType', 'FirstDown']].copy()\n",
    "data_small.head(10)"
   ]
  },
  {
   "cell_type": "code",
   "execution_count": null,
   "metadata": {},
   "outputs": [],
   "source": [
    "# As we can see there are some NaN-values. \n",
    "# So let's check them\n",
    "data_small.isna().mean()"
   ]
  },
  {
   "cell_type": "code",
   "execution_count": null,
   "metadata": {},
   "outputs": [],
   "source": [
    "# A lot of NaNs in column 'down'.  \n",
    "# Let's look at them\n",
    "data_small[data_small['down'].isna()].head(20)"
   ]
  },
  {
   "cell_type": "markdown",
   "metadata": {},
   "source": [
    "The rows with down == NaN are unusual plays such as kickoff or PAT and timeouts or the ends of a quarter. So we can ignore them."
   ]
  },
  {
   "cell_type": "code",
   "execution_count": null,
   "metadata": {},
   "outputs": [],
   "source": [
    "# Drop rows with down == NaA\n",
    "data_small.dropna(subset=['down'], axis=0, inplace=True)"
   ]
  },
  {
   "cell_type": "code",
   "execution_count": 7,
   "metadata": {},
   "outputs": [],
   "source": [
    "data_small.isna().mean()\n"
   ]
  },
  {
   "cell_type": "markdown",
   "metadata": {},
   "source": [
    "Great! All NaNs removed!"
   ]
  },
  {
   "cell_type": "markdown",
   "metadata": {},
   "source": [
    "### Check the distribution of FirstDown"
   ]
  },
  {
   "cell_type": "code",
   "execution_count": 8,
   "metadata": {},
   "outputs": [],
   "source": [
    "data_small['FirstDown'].value_counts()"
   ]
  },
  {
   "cell_type": "markdown",
   "metadata": {},
   "source": [
    "#### Define function for upsampling to get 50:50 data\n",
    "\n",
    "There is an imbalance 2:1 in favor to \"no first down\". \n",
    "\n",
    "So let's build a function to upsample the data, so both classes are even distributed."
   ]
  },
  {
   "cell_type": "code",
   "execution_count": 9,
   "metadata": {},
   "outputs": [],
   "source": [
    "def upsample_data(data):\n",
    "    \"\"\"\n",
    "    Upsample data with FirstDown == 1\n",
    "    \n",
    "    Arguments:\n",
    "    data: DataFrame\n",
    "    \n",
    "    Return Upsampled DataFrame\n",
    "    \"\"\"\n",
    "    \n",
    "    # Get counts for both values of FirstDown\n",
    "    class_0, class_1 = data['FirstDown'].value_counts()\n",
    "\n",
    "    # Split data\n",
    "    data_class_0 = data[data['FirstDown'] == 0]\n",
    "    data_class_1 = data[data['FirstDown'] == 1]    \n",
    "    \n",
    "    # Resample\n",
    "    data_class_1_over = data_class_1.sample(class_0, replace=True)\n",
    "    \n",
    "    # Combine \n",
    "    data_over = pd.concat([data_class_0, data_class_1_over], axis=0)\n",
    "    \n",
    "    return data_over\n",
    "    "
   ]
  },
  {
   "cell_type": "code",
   "execution_count": 10,
   "metadata": {},
   "outputs": [],
   "source": [
    "data_small_upsampled = upsample_data(data_small)\n",
    "data_small_upsampled['FirstDown'].value_counts()"
   ]
  },
  {
   "cell_type": "raw",
   "metadata": {},
   "source": [
    "Great, our function is doiung well."
   ]
  },
  {
   "cell_type": "markdown",
   "metadata": {},
   "source": [
    "## Prepare for Prediction\n",
    "So let's split our data into a training and testing set."
   ]
  },
  {
   "cell_type": "code",
   "execution_count": 11,
   "metadata": {},
   "outputs": [],
   "source": [
    "X = data_small_upsampled[['qtr', 'down', 'TimeSecs', 'yrdline100', 'ydstogo']]\n",
    "y = data_small_upsampled['FirstDown']\n",
    "X_train, X_test, y_train, y_test = train_test_split(X, y, test_size=0.33, random_state=42)"
   ]
  },
  {
   "cell_type": "markdown",
   "metadata": {},
   "source": [
    "Using a simple Decision Tree as model."
   ]
  },
  {
   "cell_type": "code",
   "execution_count": 12,
   "metadata": {},
   "outputs": [
    {
     "data": {
      "text/plain": [
       "DecisionTreeClassifier(class_weight=None, criterion='gini', max_depth=None,\n",
       "            max_features=None, max_leaf_nodes=None,\n",
       "            min_impurity_decrease=0.0, min_impurity_split=None,\n",
       "            min_samples_leaf=1, min_samples_split=2,\n",
       "            min_weight_fraction_leaf=0.0, presort=False, random_state=None,\n",
       "            splitter='best')"
      ]
     },
     "execution_count": 12,
     "metadata": {},
     "output_type": "execute_result"
    }
   ],
   "source": [
    "# Get a model and train it\n",
    "mdl = DecisionTreeClassifier()\n",
    "mdl.fit(X_train, y_train)"
   ]
  },
  {
   "cell_type": "markdown",
   "metadata": {},
   "source": [
    "How's the model doing on the training set?"
   ]
  },
  {
   "cell_type": "code",
   "execution_count": 13,
   "metadata": {},
   "outputs": [
    {
     "name": "stdout",
     "output_type": "stream",
     "text": [
      "The accuracy on the training data was 0.9918143081408387.\n",
      "The f1_score on the training data was 0.9917995955964951.\n"
     ]
    }
   ],
   "source": [
    "y_pred = mdl.predict(X_train)\n",
    "acc = accuracy_score(y_train, y_pred)\n",
    "f1 = f1_score(y_train, y_pred)\n",
    "print(\"The accuracy on the training data was {}.\".format(acc))\n",
    "print(\"The f1_score on the training data was {}.\".format(f1))"
   ]
  },
  {
   "cell_type": "markdown",
   "metadata": {},
   "source": [
    "Wow, that's great!\n",
    "But what about the testing data?\n"
   ]
  },
  {
   "cell_type": "code",
   "execution_count": 14,
   "metadata": {},
   "outputs": [
    {
     "name": "stdout",
     "output_type": "stream",
     "text": [
      "The accuracy on the testing data was 0.793340922026181.\n",
      "The f1_score on the testing data was 0.8064602100101274.\n"
     ]
    }
   ],
   "source": [
    "y_pred = mdl.predict(X_test)\n",
    "acc = accuracy_score(y_test, y_pred)\n",
    "f1 = f1_score(y_test, y_pred)\n",
    "print(\"The accuracy on the testing data was {}.\".format(acc))\n",
    "print(\"The f1_score on the testing data was {}.\".format(f1))"
   ]
  },
  {
   "cell_type": "markdown",
   "metadata": {},
   "source": [
    "Okay, 79% accuracy that's not bad. But we can see the model did overfitting.\n",
    "Let's try another model.\n",
    "\n",
    "First we'll define a function we can pass the data and the model."
   ]
  },
  {
   "cell_type": "code",
   "execution_count": 15,
   "metadata": {},
   "outputs": [],
   "source": [
    "def score_by_model(data, model):\n",
    "    \"\"\"\n",
    "    Split data and do a prediction with model. Than print out the accuracy on training and testing data.\n",
    "    \n",
    "    Arguments:\n",
    "    data - DataFrame with the data. The last column contains the data which should be predicted.\n",
    "    model - A classification model which is used for the prediction.\n",
    "    \n",
    "    Result: \n",
    "    returns the fitted model\n",
    "    \"\"\"\n",
    "    \n",
    "    # Upsample data\n",
    "    data = upsample_data(data)\n",
    "    \n",
    "    # Get X and y from the data\n",
    "    X = data.iloc[:, :-1]\n",
    "    y = data[data.columns[-1]]\n",
    "    \n",
    "    # Split the data in training and testing data\n",
    "    X_train, X_test, y_train, y_test = train_test_split(X, y, test_size=0.33, random_state=42)\n",
    "    \n",
    "    # Train the model\n",
    "    model.fit(X_train, y_train)\n",
    "    \n",
    "    # Accuracy on training data\n",
    "    y_pred = model.predict(X_train)\n",
    "    acc = accuracy_score(y_train, y_pred)\n",
    "    f1 = f1_score(y_train, y_pred)\n",
    "    print(\"The accuracy on the training data was {}.\".format(acc))\n",
    "    print(\"The f1_score on the training data was {}.\".format(f1))\n",
    "    \n",
    "    # Accuracy on testing dat\n",
    "    y_pred = model.predict(X_test)\n",
    "    acc = accuracy_score(y_test, y_pred)\n",
    "    f1 = f1_score(y_test, y_pred)    \n",
    "    print(\"The accuracy on the testing data was {}.\".format(acc))\n",
    "    print(\"The f1_score on the testing data was {}.\".format(f1))\n",
    "    \n",
    "    return model"
   ]
  },
  {
   "cell_type": "code",
   "execution_count": 16,
   "metadata": {},
   "outputs": [
    {
     "name": "stdout",
     "output_type": "stream",
     "text": [
      "The accuracy on the training data was 0.9918423413321372.\n",
      "The f1_score on the training data was 0.9918603675421666.\n",
      "The accuracy on the testing data was 0.7922595332953899.\n",
      "The f1_score on the testing data was 0.8077935755660873.\n"
     ]
    }
   ],
   "source": [
    "# Test the function with DecisionTreeClassifier\n",
    "mdl = DecisionTreeClassifier()\n",
    "\n",
    "# Drop column 'PlayType'\n",
    "data_to_train = data_small.drop(columns=['PlayType'])\n",
    "\n",
    "mdl_decision_tree = score_by_model(data_to_train, mdl)"
   ]
  },
  {
   "cell_type": "code",
   "execution_count": 17,
   "metadata": {},
   "outputs": [
    {
     "name": "stdout",
     "output_type": "stream",
     "text": [
      "The accuracy on the training data was 0.9877214622112581.\n",
      "The f1_score on the training data was 0.9877503076406758.\n",
      "The accuracy on the testing data was 0.8114968696642003.\n",
      "The f1_score on the testing data was 0.8208180047608742.\n"
     ]
    }
   ],
   "source": [
    "# Test the function with RandomForrest\n",
    "mdl = RandomForestClassifier(n_estimators=20)\n",
    "\n",
    "# Drop column 'PlayType'\n",
    "data_to_train = data_small.drop(columns=['PlayType'])\n",
    "\n",
    "mdl_random_forrest = score_by_model(data_to_train, mdl)"
   ]
  },
  {
   "cell_type": "markdown",
   "metadata": {},
   "source": [
    "Better, but still overfitting."
   ]
  },
  {
   "cell_type": "code",
   "execution_count": 18,
   "metadata": {},
   "outputs": [
    {
     "name": "stdout",
     "output_type": "stream",
     "text": [
      "The accuracy on the training data was 0.6389605292666517.\n",
      "The f1_score on the training data was 0.6270523846755278.\n",
      "The accuracy on the testing data was 0.6383608423449061.\n",
      "The f1_score on the testing data was 0.6264989419233482.\n"
     ]
    }
   ],
   "source": [
    "# Test the function with LogisticRegression\n",
    "mdl = LogisticRegression(solver='lbfgs')\n",
    "\n",
    "# Drop column 'PlayType'\n",
    "data_to_train = data_small.drop(columns=['PlayType'])\n",
    "\n",
    "mdl_logistic_regression = score_by_model(data_to_train, mdl)"
   ]
  },
  {
   "cell_type": "markdown",
   "metadata": {},
   "source": [
    "Oh, that's worse. So we'll use RandomForrest."
   ]
  },
  {
   "cell_type": "markdown",
   "metadata": {},
   "source": [
    "## Predictions\n",
    "So let's try some predictions for some situations:\n",
    "\n",
    "* The first row is the first play of a game: Own 20-yard line, 1st and ten.\n",
    "* The second row is 20 seconds to play in the game, 15-yard line in the redzone, 4th and 10."
   ]
  },
  {
   "cell_type": "code",
   "execution_count": 19,
   "metadata": {},
   "outputs": [
    {
     "data": {
      "text/html": [
       "<div>\n",
       "<style scoped>\n",
       "    .dataframe tbody tr th:only-of-type {\n",
       "        vertical-align: middle;\n",
       "    }\n",
       "\n",
       "    .dataframe tbody tr th {\n",
       "        vertical-align: top;\n",
       "    }\n",
       "\n",
       "    .dataframe thead th {\n",
       "        text-align: right;\n",
       "    }\n",
       "</style>\n",
       "<table border=\"1\" class=\"dataframe\">\n",
       "  <thead>\n",
       "    <tr style=\"text-align: right;\">\n",
       "      <th></th>\n",
       "      <th>qtr</th>\n",
       "      <th>down</th>\n",
       "      <th>TimeSecs</th>\n",
       "      <th>yrdline100</th>\n",
       "      <th>ydstogo</th>\n",
       "    </tr>\n",
       "  </thead>\n",
       "  <tbody>\n",
       "    <tr>\n",
       "      <th>0</th>\n",
       "      <td>1</td>\n",
       "      <td>1</td>\n",
       "      <td>3600</td>\n",
       "      <td>80</td>\n",
       "      <td>10</td>\n",
       "    </tr>\n",
       "    <tr>\n",
       "      <th>1</th>\n",
       "      <td>4</td>\n",
       "      <td>4</td>\n",
       "      <td>20</td>\n",
       "      <td>15</td>\n",
       "      <td>10</td>\n",
       "    </tr>\n",
       "  </tbody>\n",
       "</table>\n",
       "</div>"
      ],
      "text/plain": [
       "   qtr  down  TimeSecs  yrdline100  ydstogo\n",
       "0    1     1      3600          80       10\n",
       "1    4     4        20          15       10"
      ]
     },
     "execution_count": 19,
     "metadata": {},
     "output_type": "execute_result"
    }
   ],
   "source": [
    "data_fantasy = pd.DataFrame({'qtr': [1, 4], 'down': [1, 4], 'TimeSecs': [3600, 20], 'yrdline100': [80, 15],\\\n",
    "                            'ydstogo': [10, 10]})\n",
    "data_fantasy"
   ]
  },
  {
   "cell_type": "markdown",
   "metadata": {},
   "source": [
    "So what are the predictions?"
   ]
  },
  {
   "cell_type": "code",
   "execution_count": 20,
   "metadata": {},
   "outputs": [
    {
     "data": {
      "text/plain": [
       "array([0., 0.])"
      ]
     },
     "execution_count": 20,
     "metadata": {},
     "output_type": "execute_result"
    }
   ],
   "source": [
    "mdl_random_forrest.predict(data_fantasy)"
   ]
  },
  {
   "cell_type": "markdown",
   "metadata": {},
   "source": [
    "In the first play we won't get a new first down, in the second we won't get it, too!"
   ]
  },
  {
   "cell_type": "markdown",
   "metadata": {},
   "source": [
    "## Probabilities\n",
    "But what are the probabilities?"
   ]
  },
  {
   "cell_type": "code",
   "execution_count": 21,
   "metadata": {},
   "outputs": [
    {
     "data": {
      "text/plain": [
       "array([0.3712671, 0.45     ])"
      ]
     },
     "execution_count": 21,
     "metadata": {},
     "output_type": "execute_result"
    }
   ],
   "source": [
    "mdl_random_forrest.predict_proba(data_fantasy)[:, 1]"
   ]
  },
  {
   "cell_type": "markdown",
   "metadata": {},
   "source": [
    "In the first case we will get the first down in 37%, in the second case in 30% -- the model says ;-)"
   ]
  },
  {
   "cell_type": "markdown",
   "metadata": {},
   "source": [
    "### How do the probality change in respect to the position on the field?\n",
    "\n",
    "We create a dataframe for 3rd and 4 at mid-quarter for each yardline on the field. "
   ]
  },
  {
   "cell_type": "code",
   "execution_count": 22,
   "metadata": {},
   "outputs": [
    {
     "data": {
      "text/html": [
       "<div>\n",
       "<style scoped>\n",
       "    .dataframe tbody tr th:only-of-type {\n",
       "        vertical-align: middle;\n",
       "    }\n",
       "\n",
       "    .dataframe tbody tr th {\n",
       "        vertical-align: top;\n",
       "    }\n",
       "\n",
       "    .dataframe thead th {\n",
       "        text-align: right;\n",
       "    }\n",
       "</style>\n",
       "<table border=\"1\" class=\"dataframe\">\n",
       "  <thead>\n",
       "    <tr style=\"text-align: right;\">\n",
       "      <th></th>\n",
       "      <th>qtr</th>\n",
       "      <th>down</th>\n",
       "      <th>TimeSecs</th>\n",
       "      <th>yrdline100</th>\n",
       "      <th>ydstogo</th>\n",
       "    </tr>\n",
       "  </thead>\n",
       "  <tbody>\n",
       "    <tr>\n",
       "      <th>0</th>\n",
       "      <td>2</td>\n",
       "      <td>3</td>\n",
       "      <td>1800</td>\n",
       "      <td>1</td>\n",
       "      <td>4</td>\n",
       "    </tr>\n",
       "    <tr>\n",
       "      <th>1</th>\n",
       "      <td>2</td>\n",
       "      <td>3</td>\n",
       "      <td>1800</td>\n",
       "      <td>2</td>\n",
       "      <td>4</td>\n",
       "    </tr>\n",
       "    <tr>\n",
       "      <th>2</th>\n",
       "      <td>2</td>\n",
       "      <td>3</td>\n",
       "      <td>1800</td>\n",
       "      <td>3</td>\n",
       "      <td>4</td>\n",
       "    </tr>\n",
       "    <tr>\n",
       "      <th>3</th>\n",
       "      <td>2</td>\n",
       "      <td>3</td>\n",
       "      <td>1800</td>\n",
       "      <td>4</td>\n",
       "      <td>4</td>\n",
       "    </tr>\n",
       "    <tr>\n",
       "      <th>4</th>\n",
       "      <td>2</td>\n",
       "      <td>3</td>\n",
       "      <td>1800</td>\n",
       "      <td>5</td>\n",
       "      <td>4</td>\n",
       "    </tr>\n",
       "  </tbody>\n",
       "</table>\n",
       "</div>"
      ],
      "text/plain": [
       "   qtr  down  TimeSecs  yrdline100  ydstogo\n",
       "0    2     3      1800           1        4\n",
       "1    2     3      1800           2        4\n",
       "2    2     3      1800           3        4\n",
       "3    2     3      1800           4        4\n",
       "4    2     3      1800           5        4"
      ]
     },
     "execution_count": 22,
     "metadata": {},
     "output_type": "execute_result"
    }
   ],
   "source": [
    "qtr = np.full(99, 2)\n",
    "down = np.full(99, 3)\n",
    "TimeSecs = np.full(99, 1800)\n",
    "yrdline100 = np.arange(1, 100, 1)\n",
    "ydstogo = np.full(99, 4)\n",
    "\n",
    "data_fantasy = pd.DataFrame({'qtr': qtr, 'down': down, 'TimeSecs': TimeSecs, 'yrdline100': yrdline100,\\\n",
    "                            'ydstogo': ydstogo})\n",
    "data_fantasy.head()"
   ]
  },
  {
   "cell_type": "code",
   "execution_count": 23,
   "metadata": {},
   "outputs": [
    {
     "data": {
      "text/plain": [
       "array([0.  , 0.  , 0.  , 0.05, 0.05, 0.05, 0.  , 0.05, 0.15, 0.2 , 0.1 ,\n",
       "       0.15, 0.25, 0.25, 0.25, 0.3 , 0.5 , 0.65, 0.4 , 0.15, 0.15, 0.05,\n",
       "       0.05, 0.05, 0.05, 0.  , 0.05, 0.25, 0.2 , 0.15, 0.15, 0.15, 0.2 ,\n",
       "       0.1 , 0.1 , 0.2 , 0.25, 0.2 , 0.2 , 0.3 , 0.45, 0.35, 0.45, 0.5 ,\n",
       "       0.25, 0.4 , 0.45, 0.45, 0.45, 0.5 , 0.5 , 0.55, 0.3 , 0.3 , 0.35,\n",
       "       0.2 , 0.2 , 0.2 , 0.2 , 0.25, 0.2 , 0.25, 0.2 , 0.2 , 0.1 , 0.15,\n",
       "       0.2 , 0.25, 0.2 , 0.15, 0.25, 0.25, 0.25, 0.35, 0.3 , 0.25, 0.2 ,\n",
       "       0.15, 0.15, 0.2 , 0.3 , 0.25, 0.2 , 0.15, 0.15, 0.25, 0.25, 0.2 ,\n",
       "       0.3 , 0.3 , 0.2 , 0.25, 0.25, 0.2 , 0.2 , 0.25, 0.25, 0.25, 0.25])"
      ]
     },
     "execution_count": 23,
     "metadata": {},
     "output_type": "execute_result"
    }
   ],
   "source": [
    "# Predict probabilities\n",
    "probs = mdl_random_forrest.predict_proba(data_fantasy)[:, 1]\n",
    "probs"
   ]
  },
  {
   "cell_type": "code",
   "execution_count": 24,
   "metadata": {},
   "outputs": [
    {
     "data": {
      "text/plain": [
       "<matplotlib.collections.PathCollection at 0x1a205106a0>"
      ]
     },
     "execution_count": 24,
     "metadata": {},
     "output_type": "execute_result"
    },
    {
     "data": {
      "image/png": "[encoded data removed]",
      "text/plain": [
       "<Figure size 432x288 with 1 Axes>"
      ]
     },
     "metadata": {
      "needs_background": "light"
     },
     "output_type": "display_data"
    }
   ],
   "source": [
    "plt.scatter(data_fantasy['yrdline100'], probs)"
   ]
  },
  {
   "cell_type": "markdown",
   "metadata": {},
   "source": [
    "At your own endzone it's hard to get a first down. In midfield it's way easier. But it gets harder if you come to your opponents endzone."
   ]
  },
  {
   "cell_type": "markdown",
   "metadata": {},
   "source": [
    "## What about different teams?\n",
    "\n",
    "So let's the select additional the team in offense."
   ]
  },
  {
   "cell_type": "code",
   "execution_count": 25,
   "metadata": {},
   "outputs": [
    {
     "data": {
      "text/html": [
       "<div>\n",
       "<style scoped>\n",
       "    .dataframe tbody tr th:only-of-type {\n",
       "        vertical-align: middle;\n",
       "    }\n",
       "\n",
       "    .dataframe tbody tr th {\n",
       "        vertical-align: top;\n",
       "    }\n",
       "\n",
       "    .dataframe thead th {\n",
       "        text-align: right;\n",
       "    }\n",
       "</style>\n",
       "<table border=\"1\" class=\"dataframe\">\n",
       "  <thead>\n",
       "    <tr style=\"text-align: right;\">\n",
       "      <th></th>\n",
       "      <th>qtr</th>\n",
       "      <th>down</th>\n",
       "      <th>TimeSecs</th>\n",
       "      <th>yrdline100</th>\n",
       "      <th>ydstogo</th>\n",
       "      <th>posteam</th>\n",
       "      <th>FirstDown</th>\n",
       "    </tr>\n",
       "  </thead>\n",
       "  <tbody>\n",
       "    <tr>\n",
       "      <th>1</th>\n",
       "      <td>1</td>\n",
       "      <td>1.0</td>\n",
       "      <td>3600.0</td>\n",
       "      <td>80.0</td>\n",
       "      <td>10</td>\n",
       "      <td>PIT</td>\n",
       "      <td>1.0</td>\n",
       "    </tr>\n",
       "    <tr>\n",
       "      <th>2</th>\n",
       "      <td>1</td>\n",
       "      <td>1.0</td>\n",
       "      <td>3561.0</td>\n",
       "      <td>62.0</td>\n",
       "      <td>10</td>\n",
       "      <td>PIT</td>\n",
       "      <td>0.0</td>\n",
       "    </tr>\n",
       "    <tr>\n",
       "      <th>3</th>\n",
       "      <td>1</td>\n",
       "      <td>2.0</td>\n",
       "      <td>3544.0</td>\n",
       "      <td>53.0</td>\n",
       "      <td>1</td>\n",
       "      <td>PIT</td>\n",
       "      <td>1.0</td>\n",
       "    </tr>\n",
       "    <tr>\n",
       "      <th>4</th>\n",
       "      <td>1</td>\n",
       "      <td>1.0</td>\n",
       "      <td>3506.0</td>\n",
       "      <td>49.0</td>\n",
       "      <td>10</td>\n",
       "      <td>PIT</td>\n",
       "      <td>1.0</td>\n",
       "    </tr>\n",
       "    <tr>\n",
       "      <th>5</th>\n",
       "      <td>1</td>\n",
       "      <td>1.0</td>\n",
       "      <td>3462.0</td>\n",
       "      <td>35.0</td>\n",
       "      <td>10</td>\n",
       "      <td>PIT</td>\n",
       "      <td>1.0</td>\n",
       "    </tr>\n",
       "  </tbody>\n",
       "</table>\n",
       "</div>"
      ],
      "text/plain": [
       "   qtr  down  TimeSecs  yrdline100  ydstogo posteam  FirstDown\n",
       "1    1   1.0    3600.0        80.0       10     PIT        1.0\n",
       "2    1   1.0    3561.0        62.0       10     PIT        0.0\n",
       "3    1   2.0    3544.0        53.0        1     PIT        1.0\n",
       "4    1   1.0    3506.0        49.0       10     PIT        1.0\n",
       "5    1   1.0    3462.0        35.0       10     PIT        1.0"
      ]
     },
     "execution_count": 25,
     "metadata": {},
     "output_type": "execute_result"
    }
   ],
   "source": [
    "# Select only the columns we're interested in. 'FirstDown' is the column we want to predict.\n",
    "data_with_team = data[['qtr', 'down', 'TimeSecs', 'yrdline100', 'ydstogo', 'posteam', 'FirstDown']].copy()\n",
    "# Drop rows with down == NaA\n",
    "data_with_team.dropna(subset=['down'], axis=0, inplace=True)\n",
    "data_with_team.head()"
   ]
  },
  {
   "cell_type": "code",
   "execution_count": 26,
   "metadata": {},
   "outputs": [
    {
     "name": "stdout",
     "output_type": "stream",
     "text": [
      "Processing team PIT\n",
      "The accuracy on the training data was 0.9882032667876588.\n",
      "The f1_score on the training data was 0.9882988298829883.\n",
      "The accuracy on the testing data was 0.8106617647058824.\n",
      "The f1_score on the testing data was 0.8183421516754851.\n",
      "Processing team NE\n",
      "The accuracy on the training data was 0.993897122929381.\n",
      "The f1_score on the training data was 0.9938757655293089.\n",
      "The accuracy on the testing data was 0.8265486725663717.\n",
      "The f1_score on the testing data was 0.8274647887323943.\n",
      "Processing team CHI\n",
      "The accuracy on the training data was 0.9964444444444445.\n",
      "The f1_score on the training data was 0.9964285714285713.\n",
      "The accuracy on the testing data was 0.8522522522522522.\n",
      "The f1_score on the testing data was 0.856140350877193.\n",
      "Processing team GB\n",
      "The accuracy on the training data was 0.9941812136325852.\n",
      "The f1_score on the training data was 0.9941715237302248.\n",
      "The accuracy on the testing data was 0.8161888701517707.\n",
      "The f1_score on the testing data was 0.8261562998405104.\n",
      "Processing team KC\n",
      "The accuracy on the training data was 0.9934024505183789.\n",
      "The f1_score on the training data was 0.993439550140581.\n",
      "The accuracy on the testing data was 0.8202676864244742.\n",
      "The f1_score on the testing data was 0.8246268656716418.\n",
      "Processing team HOU\n",
      "The accuracy on the training data was 0.9950738916256158.\n",
      "The f1_score on the training data was 0.9950331125827814.\n",
      "The accuracy on the testing data was 0.8433333333333334.\n",
      "The f1_score on the testing data was 0.8469055374592834.\n",
      "Processing team NYJ\n",
      "The accuracy on the training data was 0.9956933677863911.\n",
      "The f1_score on the training data was 0.9957081545064378.\n",
      "The accuracy on the testing data was 0.8534031413612565.\n",
      "The f1_score on the testing data was 0.8576271186440678.\n",
      "Processing team CLE\n",
      "The accuracy on the training data was 0.9920844327176781.\n",
      "The f1_score on the training data was 0.9921942758022549.\n",
      "The accuracy on the testing data was 0.8377896613190731.\n",
      "The f1_score on the testing data was 0.8383658969804618.\n",
      "Processing team IND\n",
      "The accuracy on the training data was 0.9930495221546481.\n",
      "The f1_score on the training data was 0.9930434782608696.\n",
      "The accuracy on the testing data was 0.8218694885361552.\n",
      "The f1_score on the testing data was 0.8302521008403361.\n",
      "Processing team BUF\n",
      "The accuracy on the training data was 0.9946808510638298.\n",
      "The f1_score on the training data was 0.9947368421052633.\n",
      "The accuracy on the testing data was 0.8273381294964028.\n",
      "The f1_score on the testing data was 0.8303886925795052.\n",
      "Processing team WAS\n",
      "The accuracy on the training data was 0.9964061096136568.\n",
      "The f1_score on the training data was 0.9963833634719711.\n",
      "The accuracy on the testing data was 0.8506375227686703.\n",
      "The f1_score on the testing data was 0.857638888888889.\n",
      "Processing team MIA\n",
      "The accuracy on the training data was 0.9896907216494846.\n",
      "The f1_score on the training data was 0.9898617511520738.\n",
      "The accuracy on the testing data was 0.7874762808349146.\n",
      "The f1_score on the testing data was 0.7894736842105263.\n",
      "Processing team JAC\n",
      "The accuracy on the training data was 0.994413407821229.\n",
      "The f1_score on the training data was 0.9945255474452555.\n",
      "The accuracy on the testing data was 0.8245283018867925.\n",
      "The f1_score on the testing data was 0.8248587570621471.\n",
      "Processing team CAR\n",
      "The accuracy on the training data was 0.9938217122683142.\n",
      "The f1_score on the training data was 0.9938864628820961.\n",
      "The accuracy on the testing data was 0.815742397137746.\n",
      "The f1_score on the testing data was 0.8202443280977313.\n",
      "Processing team SEA\n",
      "The accuracy on the training data was 0.9937555753791257.\n",
      "The f1_score on the training data was 0.9937888198757764.\n",
      "The accuracy on the testing data was 0.8390596745027125.\n",
      "The f1_score on the testing data was 0.8396396396396397.\n",
      "Processing team STL\n",
      "The accuracy on the training data was 0.991362763915547.\n",
      "The f1_score on the training data was 0.9914204003813156.\n",
      "The accuracy on the testing data was 0.8443579766536965.\n",
      "The f1_score on the testing data was 0.8484848484848485.\n",
      "Processing team ARI\n",
      "The accuracy on the training data was 0.9954254345837146.\n",
      "The f1_score on the training data was 0.9954995499549955.\n",
      "The accuracy on the testing data was 0.7922077922077922.\n",
      "The f1_score on the testing data was 0.7910447761194029.\n",
      "Processing team NO\n",
      "The accuracy on the training data was 0.9947552447552448.\n",
      "The f1_score on the training data was 0.9947460595446586.\n",
      "The accuracy on the testing data was 0.7978723404255319.\n",
      "The f1_score on the testing data was 0.8047945205479452.\n",
      "Processing team DET\n",
      "The accuracy on the training data was 0.9972067039106145.\n",
      "The f1_score on the training data was 0.9972552607502287.\n",
      "The accuracy on the testing data was 0.8037735849056604.\n",
      "The f1_score on the testing data was 0.7992277992277993.\n",
      "Processing team SD\n",
      "The accuracy on the training data was 0.995.\n",
      "The f1_score on the training data was 0.995.\n",
      "The accuracy on the testing data was 0.8462837837837838.\n",
      "The f1_score on the testing data was 0.8500823723228995.\n",
      "Processing team TEN\n",
      "The accuracy on the training data was 0.9923591212989494.\n",
      "The f1_score on the training data was 0.9922330097087378.\n",
      "The accuracy on the testing data was 0.839458413926499.\n",
      "The f1_score on the testing data was 0.8442776735459663.\n",
      "Processing team TB\n",
      "The accuracy on the training data was 0.9953051643192489.\n",
      "The f1_score on the training data was 0.9953917050691246.\n",
      "The accuracy on the testing data was 0.7790476190476191.\n",
      "The f1_score on the testing data was 0.7803030303030303.\n",
      "Processing team OAK\n",
      "The accuracy on the training data was 0.995475113122172.\n",
      "The f1_score on the training data was 0.9954669084315503.\n",
      "The accuracy on the testing data was 0.8146788990825689.\n",
      "The f1_score on the testing data was 0.8186714542190306.\n",
      "Processing team CIN\n",
      "The accuracy on the training data was 0.9981634527089073.\n",
      "The f1_score on the training data was 0.9981818181818182.\n",
      "The accuracy on the testing data was 0.7970204841713222.\n",
      "The f1_score on the testing data was 0.8043087971274685.\n",
      "Processing team BAL\n",
      "The accuracy on the training data was 0.9947552447552448.\n",
      "The f1_score on the training data was 0.9947643979057592.\n",
      "The accuracy on the testing data was 0.8138297872340425.\n",
      "The f1_score on the testing data was 0.823529411764706.\n",
      "Processing team DEN\n",
      "The accuracy on the training data was 0.9964476021314387.\n",
      "The f1_score on the training data was 0.9964349376114082.\n",
      "The accuracy on the testing data was 0.8201438848920863.\n",
      "The f1_score on the testing data was 0.832214765100671.\n",
      "Processing team DAL\n",
      "The accuracy on the training data was 0.9970674486803519.\n",
      "The f1_score on the training data was 0.9970501474926254.\n",
      "The accuracy on the testing data was 0.8158415841584158.\n",
      "The f1_score on the testing data was 0.8221797323135756.\n",
      "Processing team NYG\n",
      "The accuracy on the training data was 0.9930795847750865.\n",
      "The f1_score on the training data was 0.993006993006993.\n",
      "The accuracy on the testing data was 0.8192982456140351.\n",
      "The f1_score on the testing data was 0.8263069139966274.\n",
      "Processing team PHI\n",
      "The accuracy on the training data was 0.9914893617021276.\n",
      "The f1_score on the training data was 0.9914821124361158.\n",
      "The accuracy on the testing data was 0.7944732297063903.\n",
      "The f1_score on the testing data was 0.7965811965811966.\n",
      "Processing team ATL\n",
      "The accuracy on the training data was 0.9945255474452555.\n",
      "The f1_score on the training data was 0.9945750452079566.\n",
      "The accuracy on the testing data was 0.7944444444444444.\n",
      "The f1_score on the testing data was 0.7970749542961608.\n",
      "Processing team SF\n",
      "The accuracy on the training data was 0.9934762348555451.\n",
      "The f1_score on the training data was 0.9935245143385755.\n",
      "The accuracy on the testing data was 0.8487712665406427.\n",
      "The f1_score on the testing data was 0.8523985239852399.\n",
      "Processing team MIN\n",
      "The accuracy on the training data was 0.9952963311382879.\n",
      "The f1_score on the training data was 0.9953917050691246.\n",
      "The accuracy on the testing data was 0.8228571428571428.\n",
      "The f1_score on the testing data was 0.8306010928961748.\n"
     ]
    }
   ],
   "source": [
    "teams = pd.unique(data_with_team['posteam'])\n",
    "models = {}\n",
    "for team in teams:\n",
    "    print(\"Processing team {}\".format(team))\n",
    "    mdl = RandomForestClassifier(n_estimators=20)\n",
    "    data_with_single_team = data_with_team[data_with_team['posteam'] == team].copy()\n",
    "    data_with_single_team.drop(columns=['posteam'], axis=1, inplace=True)\n",
    "    mdl_logistic_regression_team = score_by_model(data_with_single_team, mdl)\n",
    "    models[team] = mdl_logistic_regression_team"
   ]
  },
  {
   "cell_type": "markdown",
   "metadata": {},
   "source": [
    "### Show four different teams\n",
    "\n",
    "Denver (12-4) beat Carolina (15-1) in SuperBowl 50 (https://en.wikipedia.org/wiki/2015_NFL_season)\n",
    "So we compare these two teams against the two worst teams Tennessee and Cleveland (both 3-13)"
   ]
  },
  {
   "cell_type": "code",
   "execution_count": 39,
   "metadata": {},
   "outputs": [
    {
     "data": {
      "image/png": "[encoded data removed]",
      "text/plain": [
       "<Figure size 432x288 with 4 Axes>"
      ]
     },
     "metadata": {
      "needs_background": "light"
     },
     "output_type": "display_data"
    }
   ],
   "source": [
    "fig, axs = plt.subplots(2, 2)\n",
    "\n",
    "probs = models['DEN'].predict_proba(data_fantasy)[:, 1]\n",
    "axs[0,0].scatter(data_fantasy['yrdline100'], probs)\n",
    "axs[0,0].set_title('Denver Broncos - SB winner, 12-4')\n",
    "\n",
    "probs = models['CAR'].predict_proba(data_fantasy)[:, 1]\n",
    "axs[0,1].scatter(data_fantasy['yrdline100'], probs)\n",
    "axs[0,1].set_title('Carolina Panthers - SB loser, 15-1')\n",
    "\n",
    "probs = models['TEN'].predict_proba(data_fantasy)[:, 1]\n",
    "axs[1,0].scatter(data_fantasy['yrdline100'], probs)\n",
    "axs[1,0].set_title('Tennessee Titans - 3-13')\n",
    "\n",
    "probs = models['CLE'].predict_proba(data_fantasy)[:, 1]\n",
    "axs[1,1].scatter(data_fantasy['yrdline100'], probs)\n",
    "axs[1,1].set_title('Cleveland Browns - 3-13')\n",
    "\n",
    "\n",
    "for ax in axs.flat:\n",
    "    ax.set(xlabel='yardline', ylabel='probality for 1st down')\n",
    "    \n",
    "for ax in fig.get_axes():\n",
    "    ax.label_outer()\n",
    "    \n",
    "plt.tight_layout()"
   ]
  },
  {
   "cell_type": "markdown",
   "metadata": {},
   "source": [
    "As you can see both SuperBowl teams have higher probabilities than the bad teams. \n",
    "\n",
    "Getting first downs helps winning championships!"
   ]
  },
  {
   "cell_type": "code",
   "execution_count": null,
   "metadata": {},
   "outputs": [],
   "source": []
  }
 ],
 "metadata": {
  "kernelspec": {
   "display_name": "Python [conda env:nd025_aktuell] *",
   "language": "python",
   "name": "conda-env-nd025_aktuell-py"
  },
  "language_info": {
   "codemirror_mode": {
    "name": "ipython",
    "version": 3
   },
   "file_extension": ".py",
   "mimetype": "text/x-python",
   "name": "python",
   "nbconvert_exporter": "python",
   "pygments_lexer": "ipython3",
   "version": "3.7.3"
  }
 },
 "nbformat": 4,
 "nbformat_minor": 2
}
